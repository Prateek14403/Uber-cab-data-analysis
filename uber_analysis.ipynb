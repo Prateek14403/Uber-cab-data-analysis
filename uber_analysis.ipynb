{
 "cells": [
  {
   "cell_type": "code",
   "execution_count": 1,
   "id": "c6619986-23a9-43dc-adb9-10b0b095ed75",
   "metadata": {},
   "outputs": [],
   "source": [
    "import pandas as pd"
   ]
  },
  {
   "cell_type": "code",
   "execution_count": 2,
   "id": "60a9c3e0-ce26-487e-985a-20871a45f870",
   "metadata": {},
   "outputs": [],
   "source": [
    "df = pd.read_csv(r\"C:\\Users\\prate\\Documents\\uber_data_india_realistic.csv\")"
   ]
  },
  {
   "cell_type": "code",
   "execution_count": 3,
   "id": "2cc2391c-0418-4fce-8b7d-d067454b8b2b",
   "metadata": {},
   "outputs": [
    {
     "data": {
      "text/html": [
       "<div>\n",
       "<style scoped>\n",
       "    .dataframe tbody tr th:only-of-type {\n",
       "        vertical-align: middle;\n",
       "    }\n",
       "\n",
       "    .dataframe tbody tr th {\n",
       "        vertical-align: top;\n",
       "    }\n",
       "\n",
       "    .dataframe thead th {\n",
       "        text-align: right;\n",
       "    }\n",
       "</style>\n",
       "<table border=\"1\" class=\"dataframe\">\n",
       "  <thead>\n",
       "    <tr style=\"text-align: right;\">\n",
       "      <th></th>\n",
       "      <th>ride_id</th>\n",
       "      <th>customer_id</th>\n",
       "      <th>driver_id</th>\n",
       "      <th>ride_date</th>\n",
       "      <th>ride_time</th>\n",
       "      <th>pickup_location</th>\n",
       "      <th>dropoff_location</th>\n",
       "      <th>distance_km</th>\n",
       "      <th>ride_duration_min</th>\n",
       "      <th>fare_amount</th>\n",
       "      <th>payment_method</th>\n",
       "      <th>customer_rating</th>\n",
       "      <th>driver_rating</th>\n",
       "      <th>cancellation_reason</th>\n",
       "      <th>ride_status</th>\n",
       "      <th>promo_code</th>\n",
       "      <th>vehicle_type</th>\n",
       "      <th>weather_condition</th>\n",
       "      <th>traffic_condition</th>\n",
       "      <th>driver_experience_years</th>\n",
       "    </tr>\n",
       "  </thead>\n",
       "  <tbody>\n",
       "    <tr>\n",
       "      <th>0</th>\n",
       "      <td>R0000001</td>\n",
       "      <td>C00001</td>\n",
       "      <td>D00001</td>\n",
       "      <td>2023-01-03 15:00:00</td>\n",
       "      <td>14:05:41</td>\n",
       "      <td>Kolkata</td>\n",
       "      <td>Bangalore</td>\n",
       "      <td>1871</td>\n",
       "      <td>2463.14</td>\n",
       "      <td>22502.0</td>\n",
       "      <td>Cash</td>\n",
       "      <td>4</td>\n",
       "      <td>2</td>\n",
       "      <td>NaN</td>\n",
       "      <td>Completed</td>\n",
       "      <td>NaN</td>\n",
       "      <td>Mini</td>\n",
       "      <td>Clear</td>\n",
       "      <td>Low</td>\n",
       "      <td>5</td>\n",
       "    </tr>\n",
       "    <tr>\n",
       "      <th>1</th>\n",
       "      <td>R0000002</td>\n",
       "      <td>C00002</td>\n",
       "      <td>D00002</td>\n",
       "      <td>2023-01-04 13:00:00</td>\n",
       "      <td>12:26:26</td>\n",
       "      <td>Delhi</td>\n",
       "      <td>Hyderabad</td>\n",
       "      <td>1570</td>\n",
       "      <td>2845.92</td>\n",
       "      <td>22658.0</td>\n",
       "      <td>Card</td>\n",
       "      <td>2</td>\n",
       "      <td>1</td>\n",
       "      <td>NaN</td>\n",
       "      <td>Completed</td>\n",
       "      <td>NaN</td>\n",
       "      <td>Mini</td>\n",
       "      <td>Clear</td>\n",
       "      <td>Medium</td>\n",
       "      <td>8</td>\n",
       "    </tr>\n",
       "    <tr>\n",
       "      <th>2</th>\n",
       "      <td>R0000003</td>\n",
       "      <td>C00003</td>\n",
       "      <td>D00003</td>\n",
       "      <td>2023-01-07 02:00:00</td>\n",
       "      <td>03:25:31</td>\n",
       "      <td>Pune</td>\n",
       "      <td>Delhi</td>\n",
       "      <td>1490</td>\n",
       "      <td>2416.70</td>\n",
       "      <td>27942.8</td>\n",
       "      <td>Cash</td>\n",
       "      <td>5</td>\n",
       "      <td>5</td>\n",
       "      <td>NaN</td>\n",
       "      <td>Completed</td>\n",
       "      <td>NaN</td>\n",
       "      <td>SUV</td>\n",
       "      <td>Rainy</td>\n",
       "      <td>Medium</td>\n",
       "      <td>8</td>\n",
       "    </tr>\n",
       "    <tr>\n",
       "      <th>3</th>\n",
       "      <td>R0000004</td>\n",
       "      <td>C00004</td>\n",
       "      <td>D00004</td>\n",
       "      <td>2023-01-01 13:00:00</td>\n",
       "      <td>19:43:17</td>\n",
       "      <td>Delhi</td>\n",
       "      <td>Surat</td>\n",
       "      <td>1182</td>\n",
       "      <td>2340.03</td>\n",
       "      <td>14234.0</td>\n",
       "      <td>Cash</td>\n",
       "      <td>3</td>\n",
       "      <td>3</td>\n",
       "      <td>NaN</td>\n",
       "      <td>Completed</td>\n",
       "      <td>NaN</td>\n",
       "      <td>Sedan</td>\n",
       "      <td>Clear</td>\n",
       "      <td>Low</td>\n",
       "      <td>7</td>\n",
       "    </tr>\n",
       "    <tr>\n",
       "      <th>4</th>\n",
       "      <td>R0000005</td>\n",
       "      <td>C00005</td>\n",
       "      <td>D00005</td>\n",
       "      <td>2023-01-05 11:00:00</td>\n",
       "      <td>16:35:35</td>\n",
       "      <td>Hyderabad</td>\n",
       "      <td>Surat</td>\n",
       "      <td>983</td>\n",
       "      <td>1189.26</td>\n",
       "      <td>15384.8</td>\n",
       "      <td>Card</td>\n",
       "      <td>1</td>\n",
       "      <td>1</td>\n",
       "      <td>NaN</td>\n",
       "      <td>Completed</td>\n",
       "      <td>NaN</td>\n",
       "      <td>Auto</td>\n",
       "      <td>Rainy</td>\n",
       "      <td>Low</td>\n",
       "      <td>8</td>\n",
       "    </tr>\n",
       "    <tr>\n",
       "      <th>...</th>\n",
       "      <td>...</td>\n",
       "      <td>...</td>\n",
       "      <td>...</td>\n",
       "      <td>...</td>\n",
       "      <td>...</td>\n",
       "      <td>...</td>\n",
       "      <td>...</td>\n",
       "      <td>...</td>\n",
       "      <td>...</td>\n",
       "      <td>...</td>\n",
       "      <td>...</td>\n",
       "      <td>...</td>\n",
       "      <td>...</td>\n",
       "      <td>...</td>\n",
       "      <td>...</td>\n",
       "      <td>...</td>\n",
       "      <td>...</td>\n",
       "      <td>...</td>\n",
       "      <td>...</td>\n",
       "      <td>...</td>\n",
       "    </tr>\n",
       "    <tr>\n",
       "      <th>79995</th>\n",
       "      <td>R0079996</td>\n",
       "      <td>C79996</td>\n",
       "      <td>D79996</td>\n",
       "      <td>2023-01-05 18:00:00</td>\n",
       "      <td>18:08:59</td>\n",
       "      <td>Pune</td>\n",
       "      <td>Kolkata</td>\n",
       "      <td>2058</td>\n",
       "      <td>2666.19</td>\n",
       "      <td>32154.8</td>\n",
       "      <td>Card</td>\n",
       "      <td>3</td>\n",
       "      <td>3</td>\n",
       "      <td>NaN</td>\n",
       "      <td>Completed</td>\n",
       "      <td>NaN</td>\n",
       "      <td>Mini</td>\n",
       "      <td>Rainy</td>\n",
       "      <td>Low</td>\n",
       "      <td>4</td>\n",
       "    </tr>\n",
       "    <tr>\n",
       "      <th>79996</th>\n",
       "      <td>R0079997</td>\n",
       "      <td>C79997</td>\n",
       "      <td>D79997</td>\n",
       "      <td>2023-01-08 16:00:00</td>\n",
       "      <td>04:40:39</td>\n",
       "      <td>Jaipur</td>\n",
       "      <td>Chennai</td>\n",
       "      <td>2185</td>\n",
       "      <td>4008.71</td>\n",
       "      <td>31514.0</td>\n",
       "      <td>Card</td>\n",
       "      <td>3</td>\n",
       "      <td>4</td>\n",
       "      <td>NaN</td>\n",
       "      <td>Completed</td>\n",
       "      <td>PROMO20</td>\n",
       "      <td>SUV</td>\n",
       "      <td>Clear</td>\n",
       "      <td>Medium</td>\n",
       "      <td>1</td>\n",
       "    </tr>\n",
       "    <tr>\n",
       "      <th>79997</th>\n",
       "      <td>R0079998</td>\n",
       "      <td>C79998</td>\n",
       "      <td>D79998</td>\n",
       "      <td>2023-01-07 14:00:00</td>\n",
       "      <td>14:17:54</td>\n",
       "      <td>Pune</td>\n",
       "      <td>Jaipur</td>\n",
       "      <td>1294</td>\n",
       "      <td>1773.28</td>\n",
       "      <td>18683.6</td>\n",
       "      <td>Card</td>\n",
       "      <td>4</td>\n",
       "      <td>3</td>\n",
       "      <td>Rider Cancelled</td>\n",
       "      <td>Cancelled</td>\n",
       "      <td>NaN</td>\n",
       "      <td>Auto</td>\n",
       "      <td>Clear</td>\n",
       "      <td>Medium</td>\n",
       "      <td>2</td>\n",
       "    </tr>\n",
       "    <tr>\n",
       "      <th>79998</th>\n",
       "      <td>R0079999</td>\n",
       "      <td>C79999</td>\n",
       "      <td>D79999</td>\n",
       "      <td>2023-01-02 06:00:00</td>\n",
       "      <td>16:46:31</td>\n",
       "      <td>Pune</td>\n",
       "      <td>Ahmedabad</td>\n",
       "      <td>660</td>\n",
       "      <td>1291.82</td>\n",
       "      <td>11454.8</td>\n",
       "      <td>Cash</td>\n",
       "      <td>3</td>\n",
       "      <td>2</td>\n",
       "      <td>NaN</td>\n",
       "      <td>Completed</td>\n",
       "      <td>NaN</td>\n",
       "      <td>Mini</td>\n",
       "      <td>Foggy</td>\n",
       "      <td>Medium</td>\n",
       "      <td>7</td>\n",
       "    </tr>\n",
       "    <tr>\n",
       "      <th>79999</th>\n",
       "      <td>R0080000</td>\n",
       "      <td>C80000</td>\n",
       "      <td>D80000</td>\n",
       "      <td>2023-01-01 17:00:00</td>\n",
       "      <td>05:18:32</td>\n",
       "      <td>Mumbai</td>\n",
       "      <td>Hyderabad</td>\n",
       "      <td>709</td>\n",
       "      <td>970.64</td>\n",
       "      <td>10259.6</td>\n",
       "      <td>Cash</td>\n",
       "      <td>2</td>\n",
       "      <td>4</td>\n",
       "      <td>NaN</td>\n",
       "      <td>Completed</td>\n",
       "      <td>PROMO10</td>\n",
       "      <td>Auto</td>\n",
       "      <td>Clear</td>\n",
       "      <td>Medium</td>\n",
       "      <td>6</td>\n",
       "    </tr>\n",
       "  </tbody>\n",
       "</table>\n",
       "<p>80000 rows × 20 columns</p>\n",
       "</div>"
      ],
      "text/plain": [
       "        ride_id customer_id driver_id            ride_date ride_time  \\\n",
       "0      R0000001      C00001    D00001  2023-01-03 15:00:00  14:05:41   \n",
       "1      R0000002      C00002    D00002  2023-01-04 13:00:00  12:26:26   \n",
       "2      R0000003      C00003    D00003  2023-01-07 02:00:00  03:25:31   \n",
       "3      R0000004      C00004    D00004  2023-01-01 13:00:00  19:43:17   \n",
       "4      R0000005      C00005    D00005  2023-01-05 11:00:00  16:35:35   \n",
       "...         ...         ...       ...                  ...       ...   \n",
       "79995  R0079996      C79996    D79996  2023-01-05 18:00:00  18:08:59   \n",
       "79996  R0079997      C79997    D79997  2023-01-08 16:00:00  04:40:39   \n",
       "79997  R0079998      C79998    D79998  2023-01-07 14:00:00  14:17:54   \n",
       "79998  R0079999      C79999    D79999  2023-01-02 06:00:00  16:46:31   \n",
       "79999  R0080000      C80000    D80000  2023-01-01 17:00:00  05:18:32   \n",
       "\n",
       "      pickup_location dropoff_location  distance_km  ride_duration_min  \\\n",
       "0             Kolkata        Bangalore         1871            2463.14   \n",
       "1               Delhi        Hyderabad         1570            2845.92   \n",
       "2                Pune            Delhi         1490            2416.70   \n",
       "3               Delhi            Surat         1182            2340.03   \n",
       "4           Hyderabad            Surat          983            1189.26   \n",
       "...               ...              ...          ...                ...   \n",
       "79995            Pune          Kolkata         2058            2666.19   \n",
       "79996          Jaipur          Chennai         2185            4008.71   \n",
       "79997            Pune           Jaipur         1294            1773.28   \n",
       "79998            Pune        Ahmedabad          660            1291.82   \n",
       "79999          Mumbai        Hyderabad          709             970.64   \n",
       "\n",
       "       fare_amount payment_method  customer_rating  driver_rating  \\\n",
       "0          22502.0           Cash                4              2   \n",
       "1          22658.0           Card                2              1   \n",
       "2          27942.8           Cash                5              5   \n",
       "3          14234.0           Cash                3              3   \n",
       "4          15384.8           Card                1              1   \n",
       "...            ...            ...              ...            ...   \n",
       "79995      32154.8           Card                3              3   \n",
       "79996      31514.0           Card                3              4   \n",
       "79997      18683.6           Card                4              3   \n",
       "79998      11454.8           Cash                3              2   \n",
       "79999      10259.6           Cash                2              4   \n",
       "\n",
       "      cancellation_reason ride_status promo_code vehicle_type  \\\n",
       "0                     NaN   Completed        NaN         Mini   \n",
       "1                     NaN   Completed        NaN         Mini   \n",
       "2                     NaN   Completed        NaN          SUV   \n",
       "3                     NaN   Completed        NaN        Sedan   \n",
       "4                     NaN   Completed        NaN         Auto   \n",
       "...                   ...         ...        ...          ...   \n",
       "79995                 NaN   Completed        NaN         Mini   \n",
       "79996                 NaN   Completed    PROMO20          SUV   \n",
       "79997     Rider Cancelled   Cancelled        NaN         Auto   \n",
       "79998                 NaN   Completed        NaN         Mini   \n",
       "79999                 NaN   Completed    PROMO10         Auto   \n",
       "\n",
       "      weather_condition traffic_condition  driver_experience_years  \n",
       "0                 Clear               Low                        5  \n",
       "1                 Clear            Medium                        8  \n",
       "2                 Rainy            Medium                        8  \n",
       "3                 Clear               Low                        7  \n",
       "4                 Rainy               Low                        8  \n",
       "...                 ...               ...                      ...  \n",
       "79995             Rainy               Low                        4  \n",
       "79996             Clear            Medium                        1  \n",
       "79997             Clear            Medium                        2  \n",
       "79998             Foggy            Medium                        7  \n",
       "79999             Clear            Medium                        6  \n",
       "\n",
       "[80000 rows x 20 columns]"
      ]
     },
     "execution_count": 3,
     "metadata": {},
     "output_type": "execute_result"
    }
   ],
   "source": [
    "df"
   ]
  },
  {
   "cell_type": "code",
   "execution_count": 4,
   "id": "adc31578-7439-40ef-b3a0-c4bed42ff479",
   "metadata": {},
   "outputs": [
    {
     "data": {
      "text/plain": [
       "ride_id                        0\n",
       "customer_id                    0\n",
       "driver_id                      0\n",
       "ride_date                      0\n",
       "ride_time                      0\n",
       "pickup_location                0\n",
       "dropoff_location               0\n",
       "distance_km                    0\n",
       "ride_duration_min              0\n",
       "fare_amount                    0\n",
       "payment_method                 0\n",
       "customer_rating                0\n",
       "driver_rating                  0\n",
       "cancellation_reason        71956\n",
       "ride_status                    0\n",
       "promo_code                 64012\n",
       "vehicle_type                   0\n",
       "weather_condition              0\n",
       "traffic_condition              0\n",
       "driver_experience_years        0\n",
       "dtype: int64"
      ]
     },
     "execution_count": 4,
     "metadata": {},
     "output_type": "execute_result"
    }
   ],
   "source": [
    "df.isna().sum()"
   ]
  },
  {
   "cell_type": "code",
   "execution_count": 5,
   "id": "c6a4b7f2-278e-493d-bb54-a8a2ab7ccfc6",
   "metadata": {},
   "outputs": [],
   "source": [
    "df1 = df.fillna('not applicable')"
   ]
  },
  {
   "cell_type": "code",
   "execution_count": 6,
   "id": "78d5afe2-1163-41c5-9943-798bc4779149",
   "metadata": {},
   "outputs": [
    {
     "data": {
      "text/html": [
       "<div>\n",
       "<style scoped>\n",
       "    .dataframe tbody tr th:only-of-type {\n",
       "        vertical-align: middle;\n",
       "    }\n",
       "\n",
       "    .dataframe tbody tr th {\n",
       "        vertical-align: top;\n",
       "    }\n",
       "\n",
       "    .dataframe thead th {\n",
       "        text-align: right;\n",
       "    }\n",
       "</style>\n",
       "<table border=\"1\" class=\"dataframe\">\n",
       "  <thead>\n",
       "    <tr style=\"text-align: right;\">\n",
       "      <th></th>\n",
       "      <th>ride_id</th>\n",
       "      <th>customer_id</th>\n",
       "      <th>driver_id</th>\n",
       "      <th>ride_date</th>\n",
       "      <th>ride_time</th>\n",
       "      <th>pickup_location</th>\n",
       "      <th>dropoff_location</th>\n",
       "      <th>distance_km</th>\n",
       "      <th>ride_duration_min</th>\n",
       "      <th>fare_amount</th>\n",
       "      <th>payment_method</th>\n",
       "      <th>customer_rating</th>\n",
       "      <th>driver_rating</th>\n",
       "      <th>cancellation_reason</th>\n",
       "      <th>ride_status</th>\n",
       "      <th>promo_code</th>\n",
       "      <th>vehicle_type</th>\n",
       "      <th>weather_condition</th>\n",
       "      <th>traffic_condition</th>\n",
       "      <th>driver_experience_years</th>\n",
       "    </tr>\n",
       "  </thead>\n",
       "  <tbody>\n",
       "    <tr>\n",
       "      <th>0</th>\n",
       "      <td>R0000001</td>\n",
       "      <td>C00001</td>\n",
       "      <td>D00001</td>\n",
       "      <td>2023-01-03 15:00:00</td>\n",
       "      <td>14:05:41</td>\n",
       "      <td>Kolkata</td>\n",
       "      <td>Bangalore</td>\n",
       "      <td>1871</td>\n",
       "      <td>2463.14</td>\n",
       "      <td>22502.0</td>\n",
       "      <td>Cash</td>\n",
       "      <td>4</td>\n",
       "      <td>2</td>\n",
       "      <td>not applicable</td>\n",
       "      <td>Completed</td>\n",
       "      <td>not applicable</td>\n",
       "      <td>Mini</td>\n",
       "      <td>Clear</td>\n",
       "      <td>Low</td>\n",
       "      <td>5</td>\n",
       "    </tr>\n",
       "    <tr>\n",
       "      <th>1</th>\n",
       "      <td>R0000002</td>\n",
       "      <td>C00002</td>\n",
       "      <td>D00002</td>\n",
       "      <td>2023-01-04 13:00:00</td>\n",
       "      <td>12:26:26</td>\n",
       "      <td>Delhi</td>\n",
       "      <td>Hyderabad</td>\n",
       "      <td>1570</td>\n",
       "      <td>2845.92</td>\n",
       "      <td>22658.0</td>\n",
       "      <td>Card</td>\n",
       "      <td>2</td>\n",
       "      <td>1</td>\n",
       "      <td>not applicable</td>\n",
       "      <td>Completed</td>\n",
       "      <td>not applicable</td>\n",
       "      <td>Mini</td>\n",
       "      <td>Clear</td>\n",
       "      <td>Medium</td>\n",
       "      <td>8</td>\n",
       "    </tr>\n",
       "    <tr>\n",
       "      <th>2</th>\n",
       "      <td>R0000003</td>\n",
       "      <td>C00003</td>\n",
       "      <td>D00003</td>\n",
       "      <td>2023-01-07 02:00:00</td>\n",
       "      <td>03:25:31</td>\n",
       "      <td>Pune</td>\n",
       "      <td>Delhi</td>\n",
       "      <td>1490</td>\n",
       "      <td>2416.70</td>\n",
       "      <td>27942.8</td>\n",
       "      <td>Cash</td>\n",
       "      <td>5</td>\n",
       "      <td>5</td>\n",
       "      <td>not applicable</td>\n",
       "      <td>Completed</td>\n",
       "      <td>not applicable</td>\n",
       "      <td>SUV</td>\n",
       "      <td>Rainy</td>\n",
       "      <td>Medium</td>\n",
       "      <td>8</td>\n",
       "    </tr>\n",
       "    <tr>\n",
       "      <th>3</th>\n",
       "      <td>R0000004</td>\n",
       "      <td>C00004</td>\n",
       "      <td>D00004</td>\n",
       "      <td>2023-01-01 13:00:00</td>\n",
       "      <td>19:43:17</td>\n",
       "      <td>Delhi</td>\n",
       "      <td>Surat</td>\n",
       "      <td>1182</td>\n",
       "      <td>2340.03</td>\n",
       "      <td>14234.0</td>\n",
       "      <td>Cash</td>\n",
       "      <td>3</td>\n",
       "      <td>3</td>\n",
       "      <td>not applicable</td>\n",
       "      <td>Completed</td>\n",
       "      <td>not applicable</td>\n",
       "      <td>Sedan</td>\n",
       "      <td>Clear</td>\n",
       "      <td>Low</td>\n",
       "      <td>7</td>\n",
       "    </tr>\n",
       "    <tr>\n",
       "      <th>4</th>\n",
       "      <td>R0000005</td>\n",
       "      <td>C00005</td>\n",
       "      <td>D00005</td>\n",
       "      <td>2023-01-05 11:00:00</td>\n",
       "      <td>16:35:35</td>\n",
       "      <td>Hyderabad</td>\n",
       "      <td>Surat</td>\n",
       "      <td>983</td>\n",
       "      <td>1189.26</td>\n",
       "      <td>15384.8</td>\n",
       "      <td>Card</td>\n",
       "      <td>1</td>\n",
       "      <td>1</td>\n",
       "      <td>not applicable</td>\n",
       "      <td>Completed</td>\n",
       "      <td>not applicable</td>\n",
       "      <td>Auto</td>\n",
       "      <td>Rainy</td>\n",
       "      <td>Low</td>\n",
       "      <td>8</td>\n",
       "    </tr>\n",
       "    <tr>\n",
       "      <th>...</th>\n",
       "      <td>...</td>\n",
       "      <td>...</td>\n",
       "      <td>...</td>\n",
       "      <td>...</td>\n",
       "      <td>...</td>\n",
       "      <td>...</td>\n",
       "      <td>...</td>\n",
       "      <td>...</td>\n",
       "      <td>...</td>\n",
       "      <td>...</td>\n",
       "      <td>...</td>\n",
       "      <td>...</td>\n",
       "      <td>...</td>\n",
       "      <td>...</td>\n",
       "      <td>...</td>\n",
       "      <td>...</td>\n",
       "      <td>...</td>\n",
       "      <td>...</td>\n",
       "      <td>...</td>\n",
       "      <td>...</td>\n",
       "    </tr>\n",
       "    <tr>\n",
       "      <th>79995</th>\n",
       "      <td>R0079996</td>\n",
       "      <td>C79996</td>\n",
       "      <td>D79996</td>\n",
       "      <td>2023-01-05 18:00:00</td>\n",
       "      <td>18:08:59</td>\n",
       "      <td>Pune</td>\n",
       "      <td>Kolkata</td>\n",
       "      <td>2058</td>\n",
       "      <td>2666.19</td>\n",
       "      <td>32154.8</td>\n",
       "      <td>Card</td>\n",
       "      <td>3</td>\n",
       "      <td>3</td>\n",
       "      <td>not applicable</td>\n",
       "      <td>Completed</td>\n",
       "      <td>not applicable</td>\n",
       "      <td>Mini</td>\n",
       "      <td>Rainy</td>\n",
       "      <td>Low</td>\n",
       "      <td>4</td>\n",
       "    </tr>\n",
       "    <tr>\n",
       "      <th>79996</th>\n",
       "      <td>R0079997</td>\n",
       "      <td>C79997</td>\n",
       "      <td>D79997</td>\n",
       "      <td>2023-01-08 16:00:00</td>\n",
       "      <td>04:40:39</td>\n",
       "      <td>Jaipur</td>\n",
       "      <td>Chennai</td>\n",
       "      <td>2185</td>\n",
       "      <td>4008.71</td>\n",
       "      <td>31514.0</td>\n",
       "      <td>Card</td>\n",
       "      <td>3</td>\n",
       "      <td>4</td>\n",
       "      <td>not applicable</td>\n",
       "      <td>Completed</td>\n",
       "      <td>PROMO20</td>\n",
       "      <td>SUV</td>\n",
       "      <td>Clear</td>\n",
       "      <td>Medium</td>\n",
       "      <td>1</td>\n",
       "    </tr>\n",
       "    <tr>\n",
       "      <th>79997</th>\n",
       "      <td>R0079998</td>\n",
       "      <td>C79998</td>\n",
       "      <td>D79998</td>\n",
       "      <td>2023-01-07 14:00:00</td>\n",
       "      <td>14:17:54</td>\n",
       "      <td>Pune</td>\n",
       "      <td>Jaipur</td>\n",
       "      <td>1294</td>\n",
       "      <td>1773.28</td>\n",
       "      <td>18683.6</td>\n",
       "      <td>Card</td>\n",
       "      <td>4</td>\n",
       "      <td>3</td>\n",
       "      <td>Rider Cancelled</td>\n",
       "      <td>Cancelled</td>\n",
       "      <td>not applicable</td>\n",
       "      <td>Auto</td>\n",
       "      <td>Clear</td>\n",
       "      <td>Medium</td>\n",
       "      <td>2</td>\n",
       "    </tr>\n",
       "    <tr>\n",
       "      <th>79998</th>\n",
       "      <td>R0079999</td>\n",
       "      <td>C79999</td>\n",
       "      <td>D79999</td>\n",
       "      <td>2023-01-02 06:00:00</td>\n",
       "      <td>16:46:31</td>\n",
       "      <td>Pune</td>\n",
       "      <td>Ahmedabad</td>\n",
       "      <td>660</td>\n",
       "      <td>1291.82</td>\n",
       "      <td>11454.8</td>\n",
       "      <td>Cash</td>\n",
       "      <td>3</td>\n",
       "      <td>2</td>\n",
       "      <td>not applicable</td>\n",
       "      <td>Completed</td>\n",
       "      <td>not applicable</td>\n",
       "      <td>Mini</td>\n",
       "      <td>Foggy</td>\n",
       "      <td>Medium</td>\n",
       "      <td>7</td>\n",
       "    </tr>\n",
       "    <tr>\n",
       "      <th>79999</th>\n",
       "      <td>R0080000</td>\n",
       "      <td>C80000</td>\n",
       "      <td>D80000</td>\n",
       "      <td>2023-01-01 17:00:00</td>\n",
       "      <td>05:18:32</td>\n",
       "      <td>Mumbai</td>\n",
       "      <td>Hyderabad</td>\n",
       "      <td>709</td>\n",
       "      <td>970.64</td>\n",
       "      <td>10259.6</td>\n",
       "      <td>Cash</td>\n",
       "      <td>2</td>\n",
       "      <td>4</td>\n",
       "      <td>not applicable</td>\n",
       "      <td>Completed</td>\n",
       "      <td>PROMO10</td>\n",
       "      <td>Auto</td>\n",
       "      <td>Clear</td>\n",
       "      <td>Medium</td>\n",
       "      <td>6</td>\n",
       "    </tr>\n",
       "  </tbody>\n",
       "</table>\n",
       "<p>80000 rows × 20 columns</p>\n",
       "</div>"
      ],
      "text/plain": [
       "        ride_id customer_id driver_id            ride_date ride_time  \\\n",
       "0      R0000001      C00001    D00001  2023-01-03 15:00:00  14:05:41   \n",
       "1      R0000002      C00002    D00002  2023-01-04 13:00:00  12:26:26   \n",
       "2      R0000003      C00003    D00003  2023-01-07 02:00:00  03:25:31   \n",
       "3      R0000004      C00004    D00004  2023-01-01 13:00:00  19:43:17   \n",
       "4      R0000005      C00005    D00005  2023-01-05 11:00:00  16:35:35   \n",
       "...         ...         ...       ...                  ...       ...   \n",
       "79995  R0079996      C79996    D79996  2023-01-05 18:00:00  18:08:59   \n",
       "79996  R0079997      C79997    D79997  2023-01-08 16:00:00  04:40:39   \n",
       "79997  R0079998      C79998    D79998  2023-01-07 14:00:00  14:17:54   \n",
       "79998  R0079999      C79999    D79999  2023-01-02 06:00:00  16:46:31   \n",
       "79999  R0080000      C80000    D80000  2023-01-01 17:00:00  05:18:32   \n",
       "\n",
       "      pickup_location dropoff_location  distance_km  ride_duration_min  \\\n",
       "0             Kolkata        Bangalore         1871            2463.14   \n",
       "1               Delhi        Hyderabad         1570            2845.92   \n",
       "2                Pune            Delhi         1490            2416.70   \n",
       "3               Delhi            Surat         1182            2340.03   \n",
       "4           Hyderabad            Surat          983            1189.26   \n",
       "...               ...              ...          ...                ...   \n",
       "79995            Pune          Kolkata         2058            2666.19   \n",
       "79996          Jaipur          Chennai         2185            4008.71   \n",
       "79997            Pune           Jaipur         1294            1773.28   \n",
       "79998            Pune        Ahmedabad          660            1291.82   \n",
       "79999          Mumbai        Hyderabad          709             970.64   \n",
       "\n",
       "       fare_amount payment_method  customer_rating  driver_rating  \\\n",
       "0          22502.0           Cash                4              2   \n",
       "1          22658.0           Card                2              1   \n",
       "2          27942.8           Cash                5              5   \n",
       "3          14234.0           Cash                3              3   \n",
       "4          15384.8           Card                1              1   \n",
       "...            ...            ...              ...            ...   \n",
       "79995      32154.8           Card                3              3   \n",
       "79996      31514.0           Card                3              4   \n",
       "79997      18683.6           Card                4              3   \n",
       "79998      11454.8           Cash                3              2   \n",
       "79999      10259.6           Cash                2              4   \n",
       "\n",
       "      cancellation_reason ride_status      promo_code vehicle_type  \\\n",
       "0          not applicable   Completed  not applicable         Mini   \n",
       "1          not applicable   Completed  not applicable         Mini   \n",
       "2          not applicable   Completed  not applicable          SUV   \n",
       "3          not applicable   Completed  not applicable        Sedan   \n",
       "4          not applicable   Completed  not applicable         Auto   \n",
       "...                   ...         ...             ...          ...   \n",
       "79995      not applicable   Completed  not applicable         Mini   \n",
       "79996      not applicable   Completed         PROMO20          SUV   \n",
       "79997     Rider Cancelled   Cancelled  not applicable         Auto   \n",
       "79998      not applicable   Completed  not applicable         Mini   \n",
       "79999      not applicable   Completed         PROMO10         Auto   \n",
       "\n",
       "      weather_condition traffic_condition  driver_experience_years  \n",
       "0                 Clear               Low                        5  \n",
       "1                 Clear            Medium                        8  \n",
       "2                 Rainy            Medium                        8  \n",
       "3                 Clear               Low                        7  \n",
       "4                 Rainy               Low                        8  \n",
       "...                 ...               ...                      ...  \n",
       "79995             Rainy               Low                        4  \n",
       "79996             Clear            Medium                        1  \n",
       "79997             Clear            Medium                        2  \n",
       "79998             Foggy            Medium                        7  \n",
       "79999             Clear            Medium                        6  \n",
       "\n",
       "[80000 rows x 20 columns]"
      ]
     },
     "execution_count": 6,
     "metadata": {},
     "output_type": "execute_result"
    }
   ],
   "source": [
    "df1"
   ]
  },
  {
   "cell_type": "code",
   "execution_count": 7,
   "id": "a85c57fa-e603-41fd-9bd9-dfc2b1881dc4",
   "metadata": {},
   "outputs": [
    {
     "name": "stdout",
     "output_type": "stream",
     "text": [
      "<class 'pandas.core.frame.DataFrame'>\n",
      "RangeIndex: 80000 entries, 0 to 79999\n",
      "Data columns (total 20 columns):\n",
      " #   Column                   Non-Null Count  Dtype  \n",
      "---  ------                   --------------  -----  \n",
      " 0   ride_id                  80000 non-null  object \n",
      " 1   customer_id              80000 non-null  object \n",
      " 2   driver_id                80000 non-null  object \n",
      " 3   ride_date                80000 non-null  object \n",
      " 4   ride_time                80000 non-null  object \n",
      " 5   pickup_location          80000 non-null  object \n",
      " 6   dropoff_location         80000 non-null  object \n",
      " 7   distance_km              80000 non-null  int64  \n",
      " 8   ride_duration_min        80000 non-null  float64\n",
      " 9   fare_amount              80000 non-null  float64\n",
      " 10  payment_method           80000 non-null  object \n",
      " 11  customer_rating          80000 non-null  int64  \n",
      " 12  driver_rating            80000 non-null  int64  \n",
      " 13  cancellation_reason      80000 non-null  object \n",
      " 14  ride_status              80000 non-null  object \n",
      " 15  promo_code               80000 non-null  object \n",
      " 16  vehicle_type             80000 non-null  object \n",
      " 17  weather_condition        80000 non-null  object \n",
      " 18  traffic_condition        80000 non-null  object \n",
      " 19  driver_experience_years  80000 non-null  int64  \n",
      "dtypes: float64(2), int64(4), object(14)\n",
      "memory usage: 12.2+ MB\n"
     ]
    }
   ],
   "source": [
    "df1.info()"
   ]
  },
  {
   "cell_type": "code",
   "execution_count": 8,
   "id": "b4d49aed-b7b6-434c-8497-83271815eecb",
   "metadata": {},
   "outputs": [],
   "source": [
    "# number of various pickup locations along with names"
   ]
  },
  {
   "cell_type": "code",
   "execution_count": 9,
   "id": "a06cfe38-279d-49c9-b3ca-135742f0a5fc",
   "metadata": {},
   "outputs": [
    {
     "data": {
      "text/plain": [
       "pickup_location\n",
       "Surat        8268\n",
       "Kolkata      8170\n",
       "Delhi        8058\n",
       "Pune         8005\n",
       "Ahmedabad    7988\n",
       "Hyderabad    7979\n",
       "Mumbai       7973\n",
       "Chennai      7904\n",
       "Jaipur       7862\n",
       "Bangalore    7793\n",
       "Name: count, dtype: int64"
      ]
     },
     "execution_count": 9,
     "metadata": {},
     "output_type": "execute_result"
    }
   ],
   "source": [
    "df1['pickup_location'].value_counts()"
   ]
  },
  {
   "cell_type": "code",
   "execution_count": 10,
   "id": "86e7579a-9c64-4af7-a632-e2fce30997ec",
   "metadata": {},
   "outputs": [],
   "source": [
    "# average distance travelled by uber cars on daily basis"
   ]
  },
  {
   "cell_type": "code",
   "execution_count": 11,
   "id": "1189e04b-382c-453d-b6f0-dc3d38ca58f6",
   "metadata": {},
   "outputs": [],
   "source": [
    " x = df1['distance_km'].mean()"
   ]
  },
  {
   "cell_type": "code",
   "execution_count": 12,
   "id": "c71cdad7-2708-4b6c-9929-2118d11dc54e",
   "metadata": {},
   "outputs": [
    {
     "name": "stdout",
     "output_type": "stream",
     "text": [
      "1212.79685\n"
     ]
    }
   ],
   "source": [
    "print(x)"
   ]
  },
  {
   "cell_type": "code",
   "execution_count": 13,
   "id": "8efd1fe2-ff70-49bd-8683-f959ae9692a9",
   "metadata": {},
   "outputs": [],
   "source": [
    "# Average time taken by uber cars from jaipur to chennai in minutes."
   ]
  },
  {
   "cell_type": "code",
   "execution_count": 14,
   "id": "62ea0495-006b-4fb5-af60-e1c12f209551",
   "metadata": {},
   "outputs": [],
   "source": [
    " A = df1[(df1['pickup_location'] == 'Jaipur') & (df1['dropoff_location'] == 'Chennai')]\n"
   ]
  },
  {
   "cell_type": "code",
   "execution_count": 15,
   "id": "7b4043d0-0d37-4805-9df0-b43ec2b578d5",
   "metadata": {},
   "outputs": [],
   "source": [
    "t = A['ride_duration_min'].mean()"
   ]
  },
  {
   "cell_type": "code",
   "execution_count": 16,
   "id": "1518bac2-3ac5-47b1-bed8-e1ecd0e3c5fe",
   "metadata": {},
   "outputs": [
    {
     "name": "stdout",
     "output_type": "stream",
     "text": [
      "3491.868331479422\n"
     ]
    }
   ],
   "source": [
    "print(t)"
   ]
  },
  {
   "cell_type": "code",
   "execution_count": 17,
   "id": "e9e80233-9b3b-4b4f-9fe7-da2e1caa53a4",
   "metadata": {},
   "outputs": [],
   "source": [
    "# Average time taken by uber cars from jaipur to chennai in hour."
   ]
  },
  {
   "cell_type": "code",
   "execution_count": 18,
   "id": "19a364f7-c806-4ae2-9778-34c575c8b52b",
   "metadata": {},
   "outputs": [],
   "source": [
    "b = t/60"
   ]
  },
  {
   "cell_type": "code",
   "execution_count": 19,
   "id": "5b533daa-c409-4469-8538-6566a5f1dca5",
   "metadata": {},
   "outputs": [
    {
     "name": "stdout",
     "output_type": "stream",
     "text": [
      "58.197805524657035\n"
     ]
    }
   ],
   "source": [
    "print(b) # here b shows  Average time taken by uber cars from jaipur to chennai in hour."
   ]
  },
  {
   "cell_type": "code",
   "execution_count": 20,
   "id": "609b8637-ec4f-4a4a-801a-2631c51f261e",
   "metadata": {},
   "outputs": [],
   "source": [
    "# average customer_ratings"
   ]
  },
  {
   "cell_type": "code",
   "execution_count": 21,
   "id": "59e3f1fc-3c03-4ad1-b5ed-66355b364424",
   "metadata": {},
   "outputs": [
    {
     "data": {
      "text/plain": [
       "3.0075125"
      ]
     },
     "execution_count": 21,
     "metadata": {},
     "output_type": "execute_result"
    }
   ],
   "source": [
    "df1['customer_rating'].mean()"
   ]
  },
  {
   "cell_type": "code",
   "execution_count": 22,
   "id": "baf07ed0-5516-4d77-b96c-e31430c2a0f2",
   "metadata": {},
   "outputs": [],
   "source": [
    "#so , the average customer rating Is 3.0"
   ]
  },
  {
   "cell_type": "code",
   "execution_count": 23,
   "id": "64602514-c174-4beb-a5ba-96928e95145e",
   "metadata": {},
   "outputs": [],
   "source": [
    "card_payments = df1[df1['payment_method'] == 'Card'].shape[0]"
   ]
  },
  {
   "cell_type": "code",
   "execution_count": 24,
   "id": "716d7f15-70fb-4d3e-a4bc-272357cda310",
   "metadata": {},
   "outputs": [
    {
     "data": {
      "text/plain": [
       "26850"
      ]
     },
     "execution_count": 24,
     "metadata": {},
     "output_type": "execute_result"
    }
   ],
   "source": [
    "card_payments"
   ]
  },
  {
   "cell_type": "code",
   "execution_count": 25,
   "id": "f2fc8931-051c-47a1-83b0-795f37cbc6b9",
   "metadata": {},
   "outputs": [],
   "source": [
    "# so, the number of total card payments is 26850."
   ]
  },
  {
   "cell_type": "code",
   "execution_count": 26,
   "id": "ff425702-c8aa-4c5d-95e8-8e8bab1d1c8a",
   "metadata": {},
   "outputs": [],
   "source": [
    "total_payments = df1['payment_method'].count()"
   ]
  },
  {
   "cell_type": "code",
   "execution_count": 27,
   "id": "6d38167e-57b4-4a5f-944d-65e41b1e0d3b",
   "metadata": {},
   "outputs": [
    {
     "data": {
      "text/plain": [
       "80000"
      ]
     },
     "execution_count": 27,
     "metadata": {},
     "output_type": "execute_result"
    }
   ],
   "source": [
    "total_payments"
   ]
  },
  {
   "cell_type": "code",
   "execution_count": 28,
   "id": "d5b78a32-0fc0-4cca-9c49-75e533d310a3",
   "metadata": {},
   "outputs": [],
   "source": [
    "# the percentage of card payments."
   ]
  },
  {
   "cell_type": "code",
   "execution_count": 29,
   "id": "e605e9ca-a5c4-4d44-8104-0975b544087f",
   "metadata": {},
   "outputs": [],
   "source": [
    "card_percent = (card_payments/total_payments)*100"
   ]
  },
  {
   "cell_type": "code",
   "execution_count": 30,
   "id": "e8392b7d-a812-4926-aa16-9ed0af0136e0",
   "metadata": {},
   "outputs": [
    {
     "data": {
      "text/plain": [
       "33.5625"
      ]
     },
     "execution_count": 30,
     "metadata": {},
     "output_type": "execute_result"
    }
   ],
   "source": [
    "card_percent"
   ]
  },
  {
   "cell_type": "code",
   "execution_count": 31,
   "id": "1ef04a93-c6c1-45e2-aea6-06a1c9435743",
   "metadata": {},
   "outputs": [],
   "source": [
    "# finding top 10 cities to cancel ride."
   ]
  },
  {
   "cell_type": "code",
   "execution_count": 32,
   "id": "032dad76-35d4-4615-bacb-5f0ca26ca004",
   "metadata": {},
   "outputs": [],
   "source": [
    "R = df1[df1['ride_status'] == 'Cancelled']"
   ]
  },
  {
   "cell_type": "code",
   "execution_count": 33,
   "id": "d424d62c-b94a-47ad-bf42-101b7817998d",
   "metadata": {},
   "outputs": [
    {
     "data": {
      "text/plain": [
       "pickup_location\n",
       "Kolkata      867\n",
       "Surat        833\n",
       "Ahmedabad    821\n",
       "Pune         815\n",
       "Hyderabad    806\n",
       "Chennai      799\n",
       "Mumbai       798\n",
       "Delhi        779\n",
       "Jaipur       776\n",
       "Bangalore    750\n",
       "Name: count, dtype: int64"
      ]
     },
     "execution_count": 33,
     "metadata": {},
     "output_type": "execute_result"
    }
   ],
   "source": [
    "R['pickup_location'].value_counts()"
   ]
  },
  {
   "cell_type": "code",
   "execution_count": 79,
   "id": "0c7fdd83-03a9-4ea3-9650-54b091e6fe98",
   "metadata": {},
   "outputs": [
    {
     "data": {
      "text/plain": [
       "array(['not applicable', 'Rider Cancelled', 'Driver Cancelled', 'No Show'],\n",
       "      dtype=object)"
      ]
     },
     "execution_count": 79,
     "metadata": {},
     "output_type": "execute_result"
    }
   ],
   "source": [
    "df1['cancellation_reason'].unique()"
   ]
  },
  {
   "cell_type": "code",
   "execution_count": null,
   "id": "96d352f0-4bf9-410c-9e1f-d9a529cb1d1a",
   "metadata": {},
   "outputs": [],
   "source": [
    "# top 5 pickup location where rider cancelled the ride."
   ]
  },
  {
   "cell_type": "code",
   "execution_count": 71,
   "id": "f7ce99a6-8c01-40d4-9091-a90e046b0ffa",
   "metadata": {},
   "outputs": [],
   "source": [
    "c = df1[df1['cancellation_reason'] == 'Rider Cancelled']"
   ]
  },
  {
   "cell_type": "code",
   "execution_count": 77,
   "id": "f6ba1704-3b12-4872-8222-022a0a4d9f5b",
   "metadata": {},
   "outputs": [
    {
     "data": {
      "text/plain": [
       "pickup_location\n",
       "Ahmedabad    435\n",
       "Kolkata      430\n",
       "Mumbai       418\n",
       "Surat        417\n",
       "Chennai      404\n",
       "Name: count, dtype: int64"
      ]
     },
     "execution_count": 77,
     "metadata": {},
     "output_type": "execute_result"
    }
   ],
   "source": [
    "c['pickup_location'].value_counts().head()"
   ]
  },
  {
   "cell_type": "code",
   "execution_count": 81,
   "id": "94bfae12-fa51-4176-9f03-806dec1f0b60",
   "metadata": {},
   "outputs": [],
   "source": [
    "# drive's average experience years"
   ]
  },
  {
   "cell_type": "code",
   "execution_count": 83,
   "id": "586e75a4-25c6-4720-b326-fd23681faa4c",
   "metadata": {},
   "outputs": [
    {
     "data": {
      "text/plain": [
       "5.512"
      ]
     },
     "execution_count": 83,
     "metadata": {},
     "output_type": "execute_result"
    }
   ],
   "source": [
    "df1['driver_experience_years'].mean()"
   ]
  },
  {
   "cell_type": "code",
   "execution_count": 85,
   "id": "7bdef0df-8a1e-430f-a016-6ca1397df805",
   "metadata": {},
   "outputs": [],
   "source": [
    "# so, the average experience year of driver's is 5.5"
   ]
  },
  {
   "cell_type": "code",
   "execution_count": null,
   "id": "8b6123ae-63c8-4b48-85dc-a1ef87b22a48",
   "metadata": {},
   "outputs": [],
   "source": []
  }
 ],
 "metadata": {
  "kernelspec": {
   "display_name": "Python 3 (ipykernel)",
   "language": "python",
   "name": "python3"
  },
  "language_info": {
   "codemirror_mode": {
    "name": "ipython",
    "version": 3
   },
   "file_extension": ".py",
   "mimetype": "text/x-python",
   "name": "python",
   "nbconvert_exporter": "python",
   "pygments_lexer": "ipython3",
   "version": "3.12.7"
  }
 },
 "nbformat": 4,
 "nbformat_minor": 5
}
